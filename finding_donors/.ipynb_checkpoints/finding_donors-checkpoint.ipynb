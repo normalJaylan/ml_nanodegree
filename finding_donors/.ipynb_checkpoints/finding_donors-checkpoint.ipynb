{
 "cells": [
  {
   "cell_type": "code",
   "execution_count": 5,
   "metadata": {},
   "outputs": [],
   "source": [
    "import numpy as np\n",
    "import pandas as pd\n",
    "import sys\n",
    "from sklearn.preprocessing import MinMaxScaler\n",
    "from sklearn.model_selection import train_test_split\n",
    "from sklearn.metrics import accuracy_score, fbeta_score"
   ]
  },
  {
   "cell_type": "code",
   "execution_count": 6,
   "metadata": {},
   "outputs": [],
   "source": [
    "def read_data():\n",
    "    data = pd.read_csv('census.csv')\n",
    "    \n",
    "    income_raw = data['income']\n",
    "    features_raw = data.drop('income', axis=1)\n",
    "    \n",
    "    return data, features_raw, income_raw"
   ]
  },
  {
   "cell_type": "code",
   "execution_count": 7,
   "metadata": {},
   "outputs": [],
   "source": [
    "def pre_data(features_raw, data):\n",
    "    skewed = ['capital-gain', 'capital-loss']\n",
    "    features_raw[skewed] = data[skewed].apply(lambda x:np.log(x+1))\n",
    "    \n",
    "    scaler = MinMaxScaler()\n",
    "    numerical = ['age', 'education-num', 'capital-gain', 'capital-loss', 'hours-per-week']\n",
    "    features_raw[numerical] = scaler.fit_transform(data[numerical])\n",
    "    \n",
    "    return features_raw"
   ]
  },
  {
   "cell_type": "code",
   "execution_count": 8,
   "metadata": {},
   "outputs": [],
   "source": [
    "def one_hot_encoding(features_raw, income_raw):\n",
    "    features = pd.get_dummies(features_raw)\n",
    "    income = income_raw.replace(['>50K', '<=50K'], [1, 0])\n",
    "    \n",
    "    return features, income"
   ]
  },
  {
   "cell_type": "code",
   "execution_count": 9,
   "metadata": {},
   "outputs": [],
   "source": [
    "def split_dataset(features, income):\n",
    "    train_x, test_x, train_y, test_y = train_test_split(features, income, test_size=0.2, random_state=0)\n",
    "    \n",
    "    return train_x, test_x, train_y, test_y"
   ]
  },
  {
   "cell_type": "code",
   "execution_count": 10,
   "metadata": {},
   "outputs": [],
   "source": [
    "def sigmoid(x):\n",
    "    return 1.0 / (1 + np.exp(-x))"
   ]
  },
  {
   "cell_type": "code",
   "execution_count": 17,
   "metadata": {},
   "outputs": [],
   "source": [
    "def create_model(x, y):\n",
    "    #model = linear_model.LogisticRegression(random_state=0)\n",
    "    x = np.mat(x)\n",
    "    y = np.mat(y).transpose()\n",
    "\n",
    "    m, n = np.shape(x)\n",
    "    alpha = 0.01\n",
    "    max_cycles = 1000\n",
    "    weights = np.ones((n, 1))\n",
    "    \n",
    "    for k in range(max_cycles):\n",
    "        h = sigmoid((x * weights))\n",
    "        weights = weights - alpha * x.transpose() * (h - y)\n",
    "        \n",
    "    return weights"
   ]
  },
  {
   "cell_type": "code",
   "execution_count": 12,
   "metadata": {},
   "outputs": [],
   "source": [
    "def get_results(weights, train_x, test_x, train_y, test_y):\n",
    "    test_x = np.mat(test_x)\n",
    "    train_x = np.mat(train_x)\n",
    "    \n",
    "    predictions_test = sigmoid(test_x * weights)\n",
    "    predictions_train = sigmoid(train_x * weights)\n",
    "    \n",
    "    test_acc = []\n",
    "    train_acc = []\n",
    "    for test in predictions_test:\n",
    "        if test > 0.5:\n",
    "            test_acc.append(1.0)\n",
    "        else:\n",
    "            test_acc.append(0.0)\n",
    "    for train in predictions_train:\n",
    "        if train > 0.5:\n",
    "            train_acc.append(1.0)\n",
    "        else:\n",
    "            train_acc.append(0.0)\n",
    "    \n",
    "    results = {}\n",
    "    results['train_accuracy'] = accuracy_score(train_y, train_acc)\n",
    "    results['test_accuracy'] = accuracy_score(test_y, test_acc)\n",
    "    results['train_fbeta'] = fbeta_score(train_y, train_acc, beta=0.5)\n",
    "    results['test_fbeta'] = fbeta_score(test_y, test_acc, beta=0.5)\n",
    "    \n",
    "    return results"
   ]
  },
  {
   "cell_type": "code",
   "execution_count": 13,
   "metadata": {},
   "outputs": [],
   "source": [
    "def main():\n",
    "    data, features_raw, income_raw = read_data()\n",
    "    features_raw = pre_data(features_raw, data)\n",
    "    features, income = one_hot_encoding(features_raw, income_raw)\n",
    "    train_x, test_x, train_y, test_y = split_dataset(features, income)\n",
    "    \n",
    "    weights = create_model(train_x, train_y)\n",
    "    \n",
    "    results = get_results(weights, train_x, test_x, train_y, test_y)\n",
    "    print(results)"
   ]
  },
  {
   "cell_type": "code",
   "execution_count": 18,
   "metadata": {},
   "outputs": [
    {
     "name": "stdout",
     "output_type": "stream",
     "text": [
      "[[0.99992597]\n",
      " [0.99991473]\n",
      " [0.99988593]\n",
      " ...\n",
      " [0.99995046]\n",
      " [0.99992253]\n",
      " [0.99989341]]\n"
     ]
    },
    {
     "ename": "SystemExit",
     "evalue": "",
     "output_type": "error",
     "traceback": [
      "An exception has occurred, use %tb to see the full traceback.\n",
      "\u001b[0;31mSystemExit\u001b[0m\n"
     ]
    },
    {
     "name": "stderr",
     "output_type": "stream",
     "text": [
      "/Library/Frameworks/Python.framework/Versions/3.6/lib/python3.6/site-packages/IPython/core/interactiveshell.py:2971: UserWarning: To exit: use 'exit', 'quit', or Ctrl-D.\n",
      "  warn(\"To exit: use 'exit', 'quit', or Ctrl-D.\", stacklevel=1)\n"
     ]
    }
   ],
   "source": [
    "main()"
   ]
  },
  {
   "cell_type": "code",
   "execution_count": null,
   "metadata": {},
   "outputs": [],
   "source": [
    "\n"
   ]
  }
 ],
 "metadata": {
  "anaconda-cloud": {},
  "kernelspec": {
   "display_name": "Python 3",
   "language": "python",
   "name": "python3"
  },
  "language_info": {
   "codemirror_mode": {
    "name": "ipython",
    "version": 3
   },
   "file_extension": ".py",
   "mimetype": "text/x-python",
   "name": "python",
   "nbconvert_exporter": "python",
   "pygments_lexer": "ipython3",
   "version": "3.6.0"
  }
 },
 "nbformat": 4,
 "nbformat_minor": 1
}
